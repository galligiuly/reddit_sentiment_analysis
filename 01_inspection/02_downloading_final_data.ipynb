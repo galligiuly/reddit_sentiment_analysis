{
 "cells": [
  {
   "cell_type": "markdown",
   "metadata": {
    "colab_type": "text",
    "id": "CFf-no5PF0Cf"
   },
   "source": [
    "# Downloading the final data"
   ]
  },
  {
   "cell_type": "code",
   "execution_count": 2,
   "metadata": {},
   "outputs": [
    {
     "name": "stdout",
     "output_type": "stream",
     "text": [
      "Your browser has been opened to visit:\n",
      "\n",
      "    https://accounts.google.com/o/oauth2/auth?code_challenge=jng9ziQZ8Yt9ZqHulZeUDUBD6t_X7agnh5J0jiYxWUQ&prompt=select_account&code_challenge_method=S256&access_type=offline&redirect_uri=http%3A%2F%2Flocalhost%3A8085%2F&response_type=code&client_id=32555940559.apps.googleusercontent.com&scope=https%3A%2F%2Fwww.googleapis.com%2Fauth%2Fuserinfo.email+https%3A%2F%2Fwww.googleapis.com%2Fauth%2Fcloud-platform+https%3A%2F%2Fwww.googleapis.com%2Fauth%2Fappengine.admin+https%3A%2F%2Fwww.googleapis.com%2Fauth%2Fcompute+https%3A%2F%2Fwww.googleapis.com%2Fauth%2Faccounts.reauth\n",
      "\n",
      "\n",
      "\u001b[1;33mWARNING:\u001b[0m `gcloud auth login` no longer writes application default credentials.\n",
      "If you need to use ADC, see:\n",
      "  gcloud auth application-default --help\n",
      "\n",
      "You are now logged in as [galli.giuly@gmail.com].\n",
      "Your current project is [reddit-master].  You can change this setting by running:\n",
      "  $ gcloud config set project PROJECT_ID\n",
      "\n",
      "\n",
      "Updates are available for some Cloud SDK components.  To install them,\n",
      "please run:\n",
      "  $ gcloud components update\n",
      "\n",
      "\n",
      "\n",
      "To take a quick anonymous survey, run:\n",
      "  $ gcloud alpha survey\n",
      "\n"
     ]
    }
   ],
   "source": [
    "!gcloud auth login"
   ]
  },
  {
   "cell_type": "code",
   "execution_count": 3,
   "metadata": {
    "colab": {
     "base_uri": "https://localhost:8080/",
     "height": 34
    },
    "colab_type": "code",
    "id": "aOlrmrDnFwNZ",
    "outputId": "d14eed37-b903-410e-b382-c30b291216c9"
   },
   "outputs": [
    {
     "name": "stdout",
     "output_type": "stream",
     "text": [
      "Updated property [core/project].\r\n"
     ]
    }
   ],
   "source": [
    "!gcloud config set project perfect-operand-267716"
   ]
  },
  {
   "cell_type": "markdown",
   "metadata": {
    "colab_type": "text",
    "id": "X9A9041JGWiJ"
   },
   "source": [
    "## Summarizing"
   ]
  },
  {
   "cell_type": "markdown",
   "metadata": {
    "colab_type": "text",
    "id": "kAixCwBjGYYd"
   },
   "source": [
    "In this step I'll download my final data from where I'll implementing the best model that predict the related subreddit for a given text."
   ]
  },
  {
   "cell_type": "markdown",
   "metadata": {
    "colab_type": "text",
    "id": "63Cga9FzGgzv"
   },
   "source": [
    "##### Reddit comments - BQ download"
   ]
  },
  {
   "cell_type": "markdown",
   "metadata": {
    "colab_type": "text",
    "id": "YQHPr_HyGrCS"
   },
   "source": [
    "I'll run the query below for reddit_comments for each pre-selected subreddit and the length of the body is more that 10 char.\n",
    "\n",
    "```SQL\n",
    "  SELECT\n",
    "    subreddit,\n",
    "    body\n",
    "  FROM\n",
    "    `fh-bigquery.reddit_comments.2019*`\n",
    "  WHERE\n",
    "    subreddit IN ('politics',\n",
    "      'worldpolitics',\n",
    "      'neoliberal',\n",
    "      'Libertarian',\n",
    "      'Anarchism',\n",
    "      'socialism',\n",
    "      'Conservative',\n",
    "      'hillaryclinton',\n",
    "      'AskTrumpSupporters',\n",
    "      'PoliticalHumor',\n",
    "      'NeutralPolitics',\n",
    "      'PoliticalDiscussion',\n",
    "      'ukpolitics',\n",
    "      'LateStageCapitalism',\n",
    "      'geopolitics')\n",
    "    AND LENGTH(body) > 10\n",
    "    AND body != '[deleted]'\n",
    "    AND body != '[removed]'\n",
    "    AND body != '[ Removed by reddit in response to a copyright notice. ]'\n",
    "    AND body != 'NaN'\n",
    "    AND body != ''\n",
    "```"
   ]
  },
  {
   "cell_type": "markdown",
   "metadata": {
    "colab_type": "text",
    "id": "lw1NvqXYJzYK"
   },
   "source": [
    "##### Reddit postos - BQ download"
   ]
  },
  {
   "cell_type": "markdown",
   "metadata": {
    "colab_type": "text",
    "id": "tsMSQ2-IKgot"
   },
   "source": [
    "I'll run the query below for reddit_posts for each pre-selected subreddit and the length of the title is more than 5 char and the selftext length more that 10 char.\n",
    "\n",
    "```SQL\n",
    "SELECT\n",
    "  subreddit,\n",
    "  title,\n",
    "  selftext\n",
    "FROM\n",
    "  `fh-bigquery.reddit_posts.2019*`\n",
    "WHERE\n",
    "  subreddit IN ('politics',\n",
    "    'worldpolitics',\n",
    "    'neoliberal',\n",
    "    'Libertarian',\n",
    "    'Anarchism',\n",
    "    'socialism',\n",
    "    'Conservative',\n",
    "    'hillaryclinton',\n",
    "    'AskTrumpSupporters',\n",
    "    'PoliticalHumor',\n",
    "    'NeutralPolitics',\n",
    "    'PoliticalDiscussion',\n",
    "    'ukpolitics',\n",
    "    'LateStageCapitalism',\n",
    "    'geopolitics')\n",
    "  AND ((LENGTH(title) > 5\n",
    "      AND LENGTH(selftext) > 10)\n",
    "    OR ((selftext != '[deleted]'\n",
    "        AND LENGTH(title) > 5)\n",
    "      AND (selftext != '[removed]'\n",
    "        AND LENGTH(title) > 5)\n",
    "      AND (selftext != '[ Removed by reddit in response to a copyright notice. ]'\n",
    "        AND LENGTH(title) > 5)\n",
    "      AND (selftext != 'NaN'\n",
    "        AND LENGTH(title) > 5)\n",
    "      AND (selftext != ''\n",
    "        AND LENGTH(title) > 5)))\n",
    "```"
   ]
  },
  {
   "cell_type": "markdown",
   "metadata": {
    "colab_type": "text",
    "id": "camwkpLMMY65"
   },
   "source": [
    "# Assembling final data"
   ]
  },
  {
   "cell_type": "code",
   "execution_count": 6,
   "metadata": {
    "colab": {},
    "colab_type": "code",
    "id": "rYkbeyfnGOEQ"
   },
   "outputs": [],
   "source": [
    "import pandas as pd\n",
    "import re\n",
    "import numpy as np\n",
    "import pickle as pkl\n",
    "import spacy \n",
    "import ast\n",
    "\n",
    "from glob import glob\n",
    "from spacy.lang.en.stop_words import STOP_WORDS\n",
    "from spacy.lang.en import English\n",
    "from sklearn import preprocessing\n",
    "from nltk.stem.snowball import SnowballStemmer\n",
    "from sklearn.model_selection import train_test_split"
   ]
  },
  {
   "cell_type": "markdown",
   "metadata": {
    "colab_type": "text",
    "id": "KOCwu_uSO5Mm"
   },
   "source": [
    "### Comments"
   ]
  },
  {
   "cell_type": "code",
   "execution_count": 5,
   "metadata": {
    "colab": {
     "base_uri": "https://localhost:8080/",
     "height": 323
    },
    "colab_type": "code",
    "id": "5IR6OVHcGgFi",
    "outputId": "3097965a-e211-40f3-d9ee-4e68bafc9864"
   },
   "outputs": [
    {
     "name": "stdout",
     "output_type": "stream",
     "text": [
      "Copying gs://politic-comments/comments_politic 000000000000...\n",
      "Copying gs://politic-comments/comments_politic 000000000001...                  \n",
      "Copying gs://politic-comments/comments_politic 000000000002...                  \n",
      "Copying gs://politic-comments/comments_politic 000000000003...                  \n",
      "| [4 files][  2.6 GiB/  2.6 GiB]   16.4 MiB/s                                   \n",
      "==> NOTE: You are performing a sequence of gsutil operations that may\n",
      "run significantly faster if you instead use gsutil -m cp ... Please\n",
      "see the -m section under \"gsutil help options\" for further information\n",
      "about when gsutil -m can be advantageous.\n",
      "\n",
      "Copying gs://politic-comments/comments_politic 000000000004...\n",
      "Copying gs://politic-comments/comments_politic 000000000005...                  \n",
      "Copying gs://politic-comments/comments_politic 000000000006...                  \n",
      "Copying gs://politic-comments/comments_politic 000000000007...                  \n",
      "Copying gs://politic-comments/comments_politic 000000000008...                  \n",
      "Copying gs://politic-comments/comments_politic 000000000009...                  \n",
      "- [10 files][  6.4 GiB/  6.4 GiB]    7.9 MiB/s                                  \n",
      "Operation completed over 10 objects/6.4 GiB.                                     \n"
     ]
    }
   ],
   "source": [
    "!gsutil cp gs://politic-comments/comments_politic* ."
   ]
  },
  {
   "cell_type": "code",
   "execution_count": 7,
   "metadata": {
    "colab": {
     "base_uri": "https://localhost:8080/",
     "height": 34
    },
    "colab_type": "code",
    "id": "cDM0jkcoPNxp",
    "outputId": "4c2d5408-ec34-406d-acad-04e1aea9fb14"
   },
   "outputs": [
    {
     "name": "stdout",
     "output_type": "stream",
     "text": [
      "/Users/giuliagalli/Documents/GitHub/reddit_sentiment_analysis/01_inspection\r\n"
     ]
    }
   ],
   "source": [
    "!pwd"
   ]
  },
  {
   "cell_type": "code",
   "execution_count": 8,
   "metadata": {
    "colab": {},
    "colab_type": "code",
    "id": "nzmt7chAPVoI"
   },
   "outputs": [],
   "source": [
    "comments_files = glob(\"comments_politic*\") # all files have the same pattern\n",
    "dfs = []\n",
    "\n",
    "for file in comments_files:\n",
    "  df = pd.read_csv(file)\n",
    "  dfs.append(df)\n",
    "\n",
    "df_comments = pd.concat(dfs, axis=0, ignore_index=True)"
   ]
  },
  {
   "cell_type": "code",
   "execution_count": 10,
   "metadata": {
    "colab": {
     "base_uri": "https://localhost:8080/",
     "height": 173
    },
    "colab_type": "code",
    "id": "x55YV5TjPp0k",
    "outputId": "56cc8d02-407f-4c8e-da6b-c64d18063d0b"
   },
   "outputs": [
    {
     "data": {
      "text/html": [
       "<div>\n",
       "<style scoped>\n",
       "    .dataframe tbody tr th:only-of-type {\n",
       "        vertical-align: middle;\n",
       "    }\n",
       "\n",
       "    .dataframe tbody tr th {\n",
       "        vertical-align: top;\n",
       "    }\n",
       "\n",
       "    .dataframe thead th {\n",
       "        text-align: right;\n",
       "    }\n",
       "</style>\n",
       "<table border=\"1\" class=\"dataframe\">\n",
       "  <thead>\n",
       "    <tr style=\"text-align: right;\">\n",
       "      <th></th>\n",
       "      <th>subreddit</th>\n",
       "      <th>body</th>\n",
       "    </tr>\n",
       "  </thead>\n",
       "  <tbody>\n",
       "    <tr>\n",
       "      <th>count</th>\n",
       "      <td>28666076</td>\n",
       "      <td>28666076</td>\n",
       "    </tr>\n",
       "    <tr>\n",
       "      <th>unique</th>\n",
       "      <td>15</td>\n",
       "      <td>24214080</td>\n",
       "    </tr>\n",
       "    <tr>\n",
       "      <th>top</th>\n",
       "      <td>politics</td>\n",
       "      <td>\\nAs a reminder, this subreddit [is for civil ...</td>\n",
       "    </tr>\n",
       "    <tr>\n",
       "      <th>freq</th>\n",
       "      <td>17715353</td>\n",
       "      <td>240930</td>\n",
       "    </tr>\n",
       "  </tbody>\n",
       "</table>\n",
       "</div>"
      ],
      "text/plain": [
       "       subreddit                                               body\n",
       "count   28666076                                           28666076\n",
       "unique        15                                           24214080\n",
       "top     politics  \\nAs a reminder, this subreddit [is for civil ...\n",
       "freq    17715353                                             240930"
      ]
     },
     "execution_count": 10,
     "metadata": {
      "tags": []
     },
     "output_type": "execute_result"
    }
   ],
   "source": [
    "df_comments.describe()"
   ]
  },
  {
   "cell_type": "code",
   "execution_count": 9,
   "metadata": {
    "colab": {
     "base_uri": "https://localhost:8080/",
     "height": 34
    },
    "colab_type": "code",
    "id": "JPcjGc_WPzJ_",
    "outputId": "053e630f-d845-4068-f076-7a8e23005396"
   },
   "outputs": [
    {
     "data": {
      "text/plain": [
       "(28666076, 2)"
      ]
     },
     "execution_count": 9,
     "metadata": {},
     "output_type": "execute_result"
    }
   ],
   "source": [
    "df_comments.shape"
   ]
  },
  {
   "cell_type": "code",
   "execution_count": 13,
   "metadata": {
    "colab": {
     "base_uri": "https://localhost:8080/",
     "height": 68
    },
    "colab_type": "code",
    "id": "pf_KsIBMPu8v",
    "outputId": "9d6e03d0-b7c4-479b-a863-7334f804e0e2"
   },
   "outputs": [
    {
     "data": {
      "text/plain": [
       "subreddit    0\n",
       "body         0\n",
       "dtype: int64"
      ]
     },
     "execution_count": 13,
     "metadata": {
      "tags": []
     },
     "output_type": "execute_result"
    }
   ],
   "source": [
    "df_comments.isnull().sum()"
   ]
  },
  {
   "cell_type": "code",
   "execution_count": 7,
   "metadata": {
    "colab": {
     "base_uri": "https://localhost:8080/",
     "height": 102
    },
    "colab_type": "code",
    "id": "Zf_xLRImPu2A",
    "outputId": "ccdf430f-0803-4d7c-f71e-38df5f11b1e6"
   },
   "outputs": [
    {
     "data": {
      "text/plain": [
       "array(['politics', 'neoliberal', 'Conservative', 'LateStageCapitalism',\n",
       "       'AskTrumpSupporters', 'worldpolitics', 'ukpolitics', 'Anarchism',\n",
       "       'PoliticalHumor', 'Libertarian', 'PoliticalDiscussion',\n",
       "       'NeutralPolitics', 'socialism', 'geopolitics', 'hillaryclinton'],\n",
       "      dtype=object)"
      ]
     },
     "execution_count": 7,
     "metadata": {
      "tags": []
     },
     "output_type": "execute_result"
    }
   ],
   "source": [
    "df_comments['subreddit'].unique()"
   ]
  },
  {
   "cell_type": "code",
   "execution_count": 5,
   "metadata": {
    "colab": {
     "base_uri": "https://localhost:8080/",
     "height": 204
    },
    "colab_type": "code",
    "id": "GtOP8M-1QgEl",
    "outputId": "926a4423-7cf9-4832-b771-b166bbf9d349"
   },
   "outputs": [
    {
     "data": {
      "text/html": [
       "<div>\n",
       "<style scoped>\n",
       "    .dataframe tbody tr th:only-of-type {\n",
       "        vertical-align: middle;\n",
       "    }\n",
       "\n",
       "    .dataframe tbody tr th {\n",
       "        vertical-align: top;\n",
       "    }\n",
       "\n",
       "    .dataframe thead th {\n",
       "        text-align: right;\n",
       "    }\n",
       "</style>\n",
       "<table border=\"1\" class=\"dataframe\">\n",
       "  <thead>\n",
       "    <tr style=\"text-align: right;\">\n",
       "      <th></th>\n",
       "      <th>subreddit</th>\n",
       "      <th>body</th>\n",
       "    </tr>\n",
       "  </thead>\n",
       "  <tbody>\n",
       "    <tr>\n",
       "      <th>0</th>\n",
       "      <td>politics</td>\n",
       "      <td>&amp;gt;Mitch McConnell doesn't represent the peop...</td>\n",
       "    </tr>\n",
       "    <tr>\n",
       "      <th>1</th>\n",
       "      <td>politics</td>\n",
       "      <td>Justice is coming for Paul Ryan. You mean some...</td>\n",
       "    </tr>\n",
       "    <tr>\n",
       "      <th>2</th>\n",
       "      <td>politics</td>\n",
       "      <td>Such a bs excuse because 99% or journalists le...</td>\n",
       "    </tr>\n",
       "    <tr>\n",
       "      <th>3</th>\n",
       "      <td>politics</td>\n",
       "      <td>Hope all you want. AOC will without a doubt be...</td>\n",
       "    </tr>\n",
       "    <tr>\n",
       "      <th>4</th>\n",
       "      <td>politics</td>\n",
       "      <td>Typically, natural gas falls under the G part ...</td>\n",
       "    </tr>\n",
       "  </tbody>\n",
       "</table>\n",
       "</div>"
      ],
      "text/plain": [
       "  subreddit                                               body\n",
       "0  politics  &gt;Mitch McConnell doesn't represent the peop...\n",
       "1  politics  Justice is coming for Paul Ryan. You mean some...\n",
       "2  politics  Such a bs excuse because 99% or journalists le...\n",
       "3  politics  Hope all you want. AOC will without a doubt be...\n",
       "4  politics  Typically, natural gas falls under the G part ..."
      ]
     },
     "execution_count": 5,
     "metadata": {
      "tags": []
     },
     "output_type": "execute_result"
    }
   ],
   "source": [
    "df_comments.head()"
   ]
  },
  {
   "cell_type": "markdown",
   "metadata": {
    "colab_type": "text",
    "id": "XOoBHznBPtyf"
   },
   "source": [
    "### Posts"
   ]
  },
  {
   "cell_type": "code",
   "execution_count": 10,
   "metadata": {
    "colab": {
     "base_uri": "https://localhost:8080/",
     "height": 68
    },
    "colab_type": "code",
    "id": "khYypd1NPutw",
    "outputId": "9b3dbac6-65e9-478c-9fae-60cdab115831"
   },
   "outputs": [
    {
     "name": "stdout",
     "output_type": "stream",
     "text": [
      "Copying gs://politic-posts/posts_politic...\n",
      "\\ [1 files][ 26.3 MiB/ 26.3 MiB]                                                \n",
      "Operation completed over 1 objects/26.3 MiB.                                     \n"
     ]
    }
   ],
   "source": [
    "!gsutil cp gs://politic-posts/posts_politic* ."
   ]
  },
  {
   "cell_type": "code",
   "execution_count": 11,
   "metadata": {
    "colab": {},
    "colab_type": "code",
    "id": "0EFcnBsNQSpp"
   },
   "outputs": [],
   "source": [
    "df_posts = pd.read_csv(\"posts_politic\")"
   ]
  },
  {
   "cell_type": "code",
   "execution_count": 19,
   "metadata": {
    "colab": {
     "base_uri": "https://localhost:8080/",
     "height": 173
    },
    "colab_type": "code",
    "id": "BCloUZK7QSne",
    "outputId": "d33094f7-39f6-40a4-c829-078a7decdd25"
   },
   "outputs": [
    {
     "data": {
      "text/html": [
       "<div>\n",
       "<style scoped>\n",
       "    .dataframe tbody tr th:only-of-type {\n",
       "        vertical-align: middle;\n",
       "    }\n",
       "\n",
       "    .dataframe tbody tr th {\n",
       "        vertical-align: top;\n",
       "    }\n",
       "\n",
       "    .dataframe thead th {\n",
       "        text-align: right;\n",
       "    }\n",
       "</style>\n",
       "<table border=\"1\" class=\"dataframe\">\n",
       "  <thead>\n",
       "    <tr style=\"text-align: right;\">\n",
       "      <th></th>\n",
       "      <th>subreddit</th>\n",
       "      <th>title</th>\n",
       "      <th>selftext</th>\n",
       "    </tr>\n",
       "  </thead>\n",
       "  <tbody>\n",
       "    <tr>\n",
       "      <th>count</th>\n",
       "      <td>24678</td>\n",
       "      <td>24678</td>\n",
       "      <td>24678</td>\n",
       "    </tr>\n",
       "    <tr>\n",
       "      <th>unique</th>\n",
       "      <td>15</td>\n",
       "      <td>23962</td>\n",
       "      <td>24030</td>\n",
       "    </tr>\n",
       "    <tr>\n",
       "      <th>top</th>\n",
       "      <td>Libertarian</td>\n",
       "      <td>Discussion Thread</td>\n",
       "      <td>The discussion thread is for casual conversati...</td>\n",
       "    </tr>\n",
       "    <tr>\n",
       "      <th>freq</th>\n",
       "      <td>5690</td>\n",
       "      <td>244</td>\n",
       "      <td>79</td>\n",
       "    </tr>\n",
       "  </tbody>\n",
       "</table>\n",
       "</div>"
      ],
      "text/plain": [
       "          subreddit  ...                                           selftext\n",
       "count         24678  ...                                              24678\n",
       "unique           15  ...                                              24030\n",
       "top     Libertarian  ...  The discussion thread is for casual conversati...\n",
       "freq           5690  ...                                                 79\n",
       "\n",
       "[4 rows x 3 columns]"
      ]
     },
     "execution_count": 19,
     "metadata": {
      "tags": []
     },
     "output_type": "execute_result"
    }
   ],
   "source": [
    "df_posts.describe()"
   ]
  },
  {
   "cell_type": "code",
   "execution_count": 12,
   "metadata": {
    "colab": {
     "base_uri": "https://localhost:8080/",
     "height": 34
    },
    "colab_type": "code",
    "id": "7dVFl7XpQSjn",
    "outputId": "17f305b9-6c38-420f-d082-d255237ff6ca"
   },
   "outputs": [
    {
     "data": {
      "text/plain": [
       "(24678, 3)"
      ]
     },
     "execution_count": 12,
     "metadata": {},
     "output_type": "execute_result"
    }
   ],
   "source": [
    "df_posts.shape"
   ]
  },
  {
   "cell_type": "code",
   "execution_count": 21,
   "metadata": {
    "colab": {
     "base_uri": "https://localhost:8080/",
     "height": 85
    },
    "colab_type": "code",
    "id": "m4-OLtADQSgk",
    "outputId": "90f8ad5f-0829-463b-9ed1-b2db7c98da99"
   },
   "outputs": [
    {
     "data": {
      "text/plain": [
       "subreddit    0\n",
       "title        0\n",
       "selftext     0\n",
       "dtype: int64"
      ]
     },
     "execution_count": 21,
     "metadata": {
      "tags": []
     },
     "output_type": "execute_result"
    }
   ],
   "source": [
    "df_posts.isnull().sum()"
   ]
  },
  {
   "cell_type": "code",
   "execution_count": 11,
   "metadata": {
    "colab": {
     "base_uri": "https://localhost:8080/",
     "height": 204
    },
    "colab_type": "code",
    "id": "85On_-akQd2D",
    "outputId": "8f03892a-ed8b-4299-bd8f-d2b5b60108aa"
   },
   "outputs": [
    {
     "data": {
      "text/html": [
       "<div>\n",
       "<style scoped>\n",
       "    .dataframe tbody tr th:only-of-type {\n",
       "        vertical-align: middle;\n",
       "    }\n",
       "\n",
       "    .dataframe tbody tr th {\n",
       "        vertical-align: top;\n",
       "    }\n",
       "\n",
       "    .dataframe thead th {\n",
       "        text-align: right;\n",
       "    }\n",
       "</style>\n",
       "<table border=\"1\" class=\"dataframe\">\n",
       "  <thead>\n",
       "    <tr style=\"text-align: right;\">\n",
       "      <th></th>\n",
       "      <th>subreddit</th>\n",
       "      <th>title</th>\n",
       "      <th>selftext</th>\n",
       "    </tr>\n",
       "  </thead>\n",
       "  <tbody>\n",
       "    <tr>\n",
       "      <th>0</th>\n",
       "      <td>politics</td>\n",
       "      <td>Saturday Morning Political Cartoon Thread</td>\n",
       "      <td>It's Saturday, folks. Let's all kick back with...</td>\n",
       "    </tr>\n",
       "    <tr>\n",
       "      <th>1</th>\n",
       "      <td>Anarchism</td>\n",
       "      <td>What is actually happening in China?</td>\n",
       "      <td>There's been a lot of news about supposed inte...</td>\n",
       "    </tr>\n",
       "    <tr>\n",
       "      <th>2</th>\n",
       "      <td>Anarchism</td>\n",
       "      <td>Seth Tobocman on Art, Gentrification, War in t...</td>\n",
       "      <td>In this interview Seth Tobocman speaks about t...</td>\n",
       "    </tr>\n",
       "    <tr>\n",
       "      <th>3</th>\n",
       "      <td>Anarchism</td>\n",
       "      <td>Sadly true</td>\n",
       "      <td>“everyone now thinks him- or herself free, eve...</td>\n",
       "    </tr>\n",
       "    <tr>\n",
       "      <th>4</th>\n",
       "      <td>Anarchism</td>\n",
       "      <td>Swedes &amp;amp; Scandies: Go to r/arbetarrorelsen</td>\n",
       "      <td>Swedes and other people in the Scandinavian co...</td>\n",
       "    </tr>\n",
       "  </tbody>\n",
       "</table>\n",
       "</div>"
      ],
      "text/plain": [
       "   subreddit  ...                                           selftext\n",
       "0   politics  ...  It's Saturday, folks. Let's all kick back with...\n",
       "1  Anarchism  ...  There's been a lot of news about supposed inte...\n",
       "2  Anarchism  ...  In this interview Seth Tobocman speaks about t...\n",
       "3  Anarchism  ...  “everyone now thinks him- or herself free, eve...\n",
       "4  Anarchism  ...  Swedes and other people in the Scandinavian co...\n",
       "\n",
       "[5 rows x 3 columns]"
      ]
     },
     "execution_count": 11,
     "metadata": {
      "tags": []
     },
     "output_type": "execute_result"
    }
   ],
   "source": [
    "df_posts.head()"
   ]
  },
  {
   "cell_type": "markdown",
   "metadata": {
    "colab_type": "text",
    "id": "YDEhTH9EQnlB"
   },
   "source": [
    "Assembling corpus posts"
   ]
  },
  {
   "cell_type": "code",
   "execution_count": 13,
   "metadata": {
    "colab": {},
    "colab_type": "code",
    "id": "xdjZxaZ8QolE"
   },
   "outputs": [],
   "source": [
    "df_posts['body']= df_posts.title + \" \" + df_posts.selftext"
   ]
  },
  {
   "cell_type": "code",
   "execution_count": 13,
   "metadata": {
    "colab": {
     "base_uri": "https://localhost:8080/",
     "height": 204
    },
    "colab_type": "code",
    "id": "G_cfQ2eBQ6Kl",
    "outputId": "d2594acd-e25a-4ba8-bac5-c4642a826d95"
   },
   "outputs": [
    {
     "data": {
      "text/html": [
       "<div>\n",
       "<style scoped>\n",
       "    .dataframe tbody tr th:only-of-type {\n",
       "        vertical-align: middle;\n",
       "    }\n",
       "\n",
       "    .dataframe tbody tr th {\n",
       "        vertical-align: top;\n",
       "    }\n",
       "\n",
       "    .dataframe thead th {\n",
       "        text-align: right;\n",
       "    }\n",
       "</style>\n",
       "<table border=\"1\" class=\"dataframe\">\n",
       "  <thead>\n",
       "    <tr style=\"text-align: right;\">\n",
       "      <th></th>\n",
       "      <th>subreddit</th>\n",
       "      <th>title</th>\n",
       "      <th>selftext</th>\n",
       "      <th>body</th>\n",
       "    </tr>\n",
       "  </thead>\n",
       "  <tbody>\n",
       "    <tr>\n",
       "      <th>0</th>\n",
       "      <td>politics</td>\n",
       "      <td>Saturday Morning Political Cartoon Thread</td>\n",
       "      <td>It's Saturday, folks. Let's all kick back with...</td>\n",
       "      <td>Saturday Morning Political Cartoon Thread It's...</td>\n",
       "    </tr>\n",
       "    <tr>\n",
       "      <th>1</th>\n",
       "      <td>Anarchism</td>\n",
       "      <td>What is actually happening in China?</td>\n",
       "      <td>There's been a lot of news about supposed inte...</td>\n",
       "      <td>What is actually happening in China? There's b...</td>\n",
       "    </tr>\n",
       "    <tr>\n",
       "      <th>2</th>\n",
       "      <td>Anarchism</td>\n",
       "      <td>Seth Tobocman on Art, Gentrification, War in t...</td>\n",
       "      <td>In this interview Seth Tobocman speaks about t...</td>\n",
       "      <td>Seth Tobocman on Art, Gentrification, War in t...</td>\n",
       "    </tr>\n",
       "    <tr>\n",
       "      <th>3</th>\n",
       "      <td>Anarchism</td>\n",
       "      <td>Sadly true</td>\n",
       "      <td>“everyone now thinks him- or herself free, eve...</td>\n",
       "      <td>Sadly true “everyone now thinks him- or hersel...</td>\n",
       "    </tr>\n",
       "    <tr>\n",
       "      <th>4</th>\n",
       "      <td>Anarchism</td>\n",
       "      <td>Swedes &amp;amp; Scandies: Go to r/arbetarrorelsen</td>\n",
       "      <td>Swedes and other people in the Scandinavian co...</td>\n",
       "      <td>Swedes &amp;amp; Scandies: Go to r/arbetarrorelsen...</td>\n",
       "    </tr>\n",
       "  </tbody>\n",
       "</table>\n",
       "</div>"
      ],
      "text/plain": [
       "   subreddit  ...                                               body\n",
       "0   politics  ...  Saturday Morning Political Cartoon Thread It's...\n",
       "1  Anarchism  ...  What is actually happening in China? There's b...\n",
       "2  Anarchism  ...  Seth Tobocman on Art, Gentrification, War in t...\n",
       "3  Anarchism  ...  Sadly true “everyone now thinks him- or hersel...\n",
       "4  Anarchism  ...  Swedes &amp; Scandies: Go to r/arbetarrorelsen...\n",
       "\n",
       "[5 rows x 4 columns]"
      ]
     },
     "execution_count": 13,
     "metadata": {
      "tags": []
     },
     "output_type": "execute_result"
    }
   ],
   "source": [
    "df_posts.head()"
   ]
  },
  {
   "cell_type": "code",
   "execution_count": 14,
   "metadata": {
    "colab": {},
    "colab_type": "code",
    "id": "U5bJsslSQ6IJ"
   },
   "outputs": [],
   "source": [
    "posts_corpus_df = df_posts.drop(['title', 'selftext'], axis=1)"
   ]
  },
  {
   "cell_type": "code",
   "execution_count": 15,
   "metadata": {
    "colab": {
     "base_uri": "https://localhost:8080/",
     "height": 204
    },
    "colab_type": "code",
    "id": "4hRA_3w0Rvra",
    "outputId": "066f2689-ff4f-43c5-fbf5-15bffd4ae786"
   },
   "outputs": [
    {
     "data": {
      "text/html": [
       "<div>\n",
       "<style scoped>\n",
       "    .dataframe tbody tr th:only-of-type {\n",
       "        vertical-align: middle;\n",
       "    }\n",
       "\n",
       "    .dataframe tbody tr th {\n",
       "        vertical-align: top;\n",
       "    }\n",
       "\n",
       "    .dataframe thead th {\n",
       "        text-align: right;\n",
       "    }\n",
       "</style>\n",
       "<table border=\"1\" class=\"dataframe\">\n",
       "  <thead>\n",
       "    <tr style=\"text-align: right;\">\n",
       "      <th></th>\n",
       "      <th>subreddit</th>\n",
       "      <th>body</th>\n",
       "    </tr>\n",
       "  </thead>\n",
       "  <tbody>\n",
       "    <tr>\n",
       "      <th>0</th>\n",
       "      <td>politics</td>\n",
       "      <td>Saturday Morning Political Cartoon Thread It's...</td>\n",
       "    </tr>\n",
       "    <tr>\n",
       "      <th>1</th>\n",
       "      <td>Anarchism</td>\n",
       "      <td>What is actually happening in China? There's b...</td>\n",
       "    </tr>\n",
       "    <tr>\n",
       "      <th>2</th>\n",
       "      <td>Anarchism</td>\n",
       "      <td>Seth Tobocman on Art, Gentrification, War in t...</td>\n",
       "    </tr>\n",
       "    <tr>\n",
       "      <th>3</th>\n",
       "      <td>Anarchism</td>\n",
       "      <td>Sadly true “everyone now thinks him- or hersel...</td>\n",
       "    </tr>\n",
       "    <tr>\n",
       "      <th>4</th>\n",
       "      <td>Anarchism</td>\n",
       "      <td>Swedes &amp;amp; Scandies: Go to r/arbetarrorelsen...</td>\n",
       "    </tr>\n",
       "  </tbody>\n",
       "</table>\n",
       "</div>"
      ],
      "text/plain": [
       "   subreddit                                               body\n",
       "0   politics  Saturday Morning Political Cartoon Thread It's...\n",
       "1  Anarchism  What is actually happening in China? There's b...\n",
       "2  Anarchism  Seth Tobocman on Art, Gentrification, War in t...\n",
       "3  Anarchism  Sadly true “everyone now thinks him- or hersel...\n",
       "4  Anarchism  Swedes &amp; Scandies: Go to r/arbetarrorelsen..."
      ]
     },
     "execution_count": 15,
     "metadata": {
      "tags": []
     },
     "output_type": "execute_result"
    }
   ],
   "source": [
    "posts_corpus_df.head()"
   ]
  },
  {
   "cell_type": "markdown",
   "metadata": {
    "colab_type": "text",
    "id": "y4S2aoGtRsgY"
   },
   "source": [
    "#### Unifing comments and posts"
   ]
  },
  {
   "cell_type": "code",
   "execution_count": 15,
   "metadata": {
    "colab": {},
    "colab_type": "code",
    "id": "WWVfd_FqQ6Ek"
   },
   "outputs": [],
   "source": [
    "comments_posts_df = pd.concat([df_comments, posts_corpus_df], axis=0, ignore_index=True)"
   ]
  },
  {
   "cell_type": "code",
   "execution_count": 17,
   "metadata": {
    "colab": {
     "base_uri": "https://localhost:8080/",
     "height": 204
    },
    "colab_type": "code",
    "id": "Vj5dweIJR8e8",
    "outputId": "b0f4edfe-738d-4636-e2be-356412c555e6"
   },
   "outputs": [
    {
     "data": {
      "text/html": [
       "<div>\n",
       "<style scoped>\n",
       "    .dataframe tbody tr th:only-of-type {\n",
       "        vertical-align: middle;\n",
       "    }\n",
       "\n",
       "    .dataframe tbody tr th {\n",
       "        vertical-align: top;\n",
       "    }\n",
       "\n",
       "    .dataframe thead th {\n",
       "        text-align: right;\n",
       "    }\n",
       "</style>\n",
       "<table border=\"1\" class=\"dataframe\">\n",
       "  <thead>\n",
       "    <tr style=\"text-align: right;\">\n",
       "      <th></th>\n",
       "      <th>subreddit</th>\n",
       "      <th>body</th>\n",
       "    </tr>\n",
       "  </thead>\n",
       "  <tbody>\n",
       "    <tr>\n",
       "      <th>0</th>\n",
       "      <td>politics</td>\n",
       "      <td>&amp;gt;Mitch McConnell doesn't represent the peop...</td>\n",
       "    </tr>\n",
       "    <tr>\n",
       "      <th>1</th>\n",
       "      <td>politics</td>\n",
       "      <td>Justice is coming for Paul Ryan. You mean some...</td>\n",
       "    </tr>\n",
       "    <tr>\n",
       "      <th>2</th>\n",
       "      <td>politics</td>\n",
       "      <td>Such a bs excuse because 99% or journalists le...</td>\n",
       "    </tr>\n",
       "    <tr>\n",
       "      <th>3</th>\n",
       "      <td>politics</td>\n",
       "      <td>Hope all you want. AOC will without a doubt be...</td>\n",
       "    </tr>\n",
       "    <tr>\n",
       "      <th>4</th>\n",
       "      <td>politics</td>\n",
       "      <td>Typically, natural gas falls under the G part ...</td>\n",
       "    </tr>\n",
       "  </tbody>\n",
       "</table>\n",
       "</div>"
      ],
      "text/plain": [
       "  subreddit                                               body\n",
       "0  politics  &gt;Mitch McConnell doesn't represent the peop...\n",
       "1  politics  Justice is coming for Paul Ryan. You mean some...\n",
       "2  politics  Such a bs excuse because 99% or journalists le...\n",
       "3  politics  Hope all you want. AOC will without a doubt be...\n",
       "4  politics  Typically, natural gas falls under the G part ..."
      ]
     },
     "execution_count": 17,
     "metadata": {
      "tags": []
     },
     "output_type": "execute_result"
    }
   ],
   "source": [
    "comments_posts_df.head()"
   ]
  },
  {
   "cell_type": "code",
   "execution_count": 16,
   "metadata": {
    "colab": {
     "base_uri": "https://localhost:8080/",
     "height": 34
    },
    "colab_type": "code",
    "id": "km6QOWe5R_Fo",
    "outputId": "bcdb8e00-710e-483a-bfa9-a2f6dc843a33"
   },
   "outputs": [
    {
     "data": {
      "text/plain": [
       "(28690754, 2)"
      ]
     },
     "execution_count": 16,
     "metadata": {},
     "output_type": "execute_result"
    }
   ],
   "source": [
    "comments_posts_df.shape"
   ]
  },
  {
   "cell_type": "code",
   "execution_count": 19,
   "metadata": {
    "colab": {
     "base_uri": "https://localhost:8080/",
     "height": 173
    },
    "colab_type": "code",
    "id": "UxaqXNoMSBdg",
    "outputId": "90f55e46-3160-4104-94b6-e16110722fec"
   },
   "outputs": [
    {
     "data": {
      "text/html": [
       "<div>\n",
       "<style scoped>\n",
       "    .dataframe tbody tr th:only-of-type {\n",
       "        vertical-align: middle;\n",
       "    }\n",
       "\n",
       "    .dataframe tbody tr th {\n",
       "        vertical-align: top;\n",
       "    }\n",
       "\n",
       "    .dataframe thead th {\n",
       "        text-align: right;\n",
       "    }\n",
       "</style>\n",
       "<table border=\"1\" class=\"dataframe\">\n",
       "  <thead>\n",
       "    <tr style=\"text-align: right;\">\n",
       "      <th></th>\n",
       "      <th>subreddit</th>\n",
       "      <th>body</th>\n",
       "    </tr>\n",
       "  </thead>\n",
       "  <tbody>\n",
       "    <tr>\n",
       "      <th>count</th>\n",
       "      <td>28690754</td>\n",
       "      <td>28690754</td>\n",
       "    </tr>\n",
       "    <tr>\n",
       "      <th>unique</th>\n",
       "      <td>15</td>\n",
       "      <td>24238319</td>\n",
       "    </tr>\n",
       "    <tr>\n",
       "      <th>top</th>\n",
       "      <td>politics</td>\n",
       "      <td>\\nAs a reminder, this subreddit [is for civil ...</td>\n",
       "    </tr>\n",
       "    <tr>\n",
       "      <th>freq</th>\n",
       "      <td>17715641</td>\n",
       "      <td>240930</td>\n",
       "    </tr>\n",
       "  </tbody>\n",
       "</table>\n",
       "</div>"
      ],
      "text/plain": [
       "       subreddit                                               body\n",
       "count   28690754                                           28690754\n",
       "unique        15                                           24238319\n",
       "top     politics  \\nAs a reminder, this subreddit [is for civil ...\n",
       "freq    17715641                                             240930"
      ]
     },
     "execution_count": 19,
     "metadata": {
      "tags": []
     },
     "output_type": "execute_result"
    }
   ],
   "source": [
    "comments_posts_df.describe()"
   ]
  },
  {
   "cell_type": "code",
   "execution_count": 17,
   "metadata": {
    "colab": {
     "base_uri": "https://localhost:8080/",
     "height": 34
    },
    "colab_type": "code",
    "id": "Y-TEXzw1SD7e",
    "outputId": "6b933eff-9bee-4b96-94c1-ef8300405e84"
   },
   "outputs": [
    {
     "data": {
      "text/plain": [
       "0"
      ]
     },
     "execution_count": 17,
     "metadata": {},
     "output_type": "execute_result"
    }
   ],
   "source": [
    "comments_posts_df[\"body\"].isna().sum()"
   ]
  },
  {
   "cell_type": "code",
   "execution_count": 10,
   "metadata": {
    "colab": {
     "base_uri": "https://localhost:8080/",
     "height": 136
    },
    "colab_type": "code",
    "id": "HwbjwTt7Vo5E",
    "outputId": "21b1560d-d3c0-47b6-80ff-1f9f8b9b0c93"
   },
   "outputs": [
    {
     "name": "stdout",
     "output_type": "stream",
     "text": [
      " adc.json\t\t\t 'comments_politic 000000000006'\n",
      "'comments_politic 000000000000'  'comments_politic 000000000007'\n",
      "'comments_politic 000000000001'  'comments_politic 000000000008'\n",
      "'comments_politic 000000000002'  'comments_politic 000000000009'\n",
      "'comments_politic 000000000003'   comments_posts.pkl\n",
      "'comments_politic 000000000004'   posts_politic\n",
      "'comments_politic 000000000005'   sample_data\n"
     ]
    }
   ],
   "source": [
    "!ls"
   ]
  },
  {
   "cell_type": "code",
   "execution_count": null,
   "metadata": {
    "colab": {},
    "colab_type": "code",
    "id": "UpXkY2OMSKRJ"
   },
   "outputs": [],
   "source": [
    "comments_posts_df.to_pickle('comments_posts.pkl')"
   ]
  },
  {
   "cell_type": "code",
   "execution_count": 0,
   "metadata": {
    "colab": {},
    "colab_type": "code",
    "id": "hUAyKPmcTHQN"
   },
   "outputs": [],
   "source": [
    "!gsutil cp /content/comments_posts.pkl gs://reddit_final_results/"
   ]
  }
 ],
 "metadata": {
  "accelerator": "GPU",
  "colab": {
   "collapsed_sections": [],
   "machine_shape": "hm",
   "name": "02_downloading_final_data.ipynb",
   "provenance": []
  },
  "kernelspec": {
   "display_name": "Python 3",
   "language": "python",
   "name": "python3"
  },
  "language_info": {
   "codemirror_mode": {
    "name": "ipython",
    "version": 3
   },
   "file_extension": ".py",
   "mimetype": "text/x-python",
   "name": "python",
   "nbconvert_exporter": "python",
   "pygments_lexer": "ipython3",
   "version": "3.7.4"
  }
 },
 "nbformat": 4,
 "nbformat_minor": 1
}
